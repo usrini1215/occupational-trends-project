{
  "nbformat": 4,
  "nbformat_minor": 0,
  "metadata": {
    "colab": {
      "name": "Copy of data_cleanup.ipynb",
      "provenance": [],
      "collapsed_sections": []
    },
    "kernelspec": {
      "display_name": "Python 3",
      "language": "python",
      "name": "python3"
    },
    "language_info": {
      "codemirror_mode": {
        "name": "ipython",
        "version": 3
      },
      "file_extension": ".py",
      "mimetype": "text/x-python",
      "name": "python",
      "nbconvert_exporter": "python",
      "pygments_lexer": "ipython3",
      "version": "3.8.3"
    },
    "latex_envs": {
      "LaTeX_envs_menu_present": true,
      "autoclose": false,
      "autocomplete": true,
      "bibliofile": "biblio.bib",
      "cite_by": "apalike",
      "current_citInitial": 1,
      "eqLabelWithNumbers": true,
      "eqNumInitial": 1,
      "hotkeys": {
        "equation": "Ctrl-E",
        "itemize": "Ctrl-I"
      },
      "labels_anchors": false,
      "latex_user_defs": false,
      "report_style_numbering": false,
      "user_envs_cfg": false
    }
  },
  "cells": [
    {
      "cell_type": "code",
      "metadata": {
        "colab": {
          "base_uri": "https://localhost:8080/"
        },
        "id": "5WosHdRWdmpw",
        "outputId": "a5a7e28e-6d1e-4354-925b-2ab3b0488f57"
      },
      "source": [
        "import os\n",
        "# Find the latest version of spark 2.0  from http://www-us.apache.org/dist/spark/ and enter as the spark version\n",
        "# For example:\n",
        "# spark_version = 'spark-2.4.6'\n",
        "spark_version = 'spark-2.4.7'\n",
        "os.environ['SPARK_VERSION']=spark_version\n",
        "\n",
        "# Install Spark and Java\n",
        "!apt-get update\n",
        "!apt-get install openjdk-8-jdk-headless -qq > /dev/null\n",
        "!wget -q http://www-us.apache.org/dist/spark/$SPARK_VERSION/$SPARK_VERSION-bin-hadoop2.7.tgz\n",
        "!tar xf $SPARK_VERSION-bin-hadoop2.7.tgz\n",
        "!pip install -q findspark\n",
        "\n",
        "# Set Environment Variables\n",
        "os.environ[\"JAVA_HOME\"] = \"/usr/lib/jvm/java-8-openjdk-amd64\"\n",
        "os.environ[\"SPARK_HOME\"] = f\"/content/{spark_version}-bin-hadoop2.7\"\n",
        "\n",
        "# Start a SparkSession\n",
        "import findspark\n",
        "findspark.init()"
      ],
      "execution_count": null,
      "outputs": [
        {
          "output_type": "stream",
          "text": [
            "Get:1 https://cloud.r-project.org/bin/linux/ubuntu bionic-cran40/ InRelease [3,626 B]\n",
            "Ign:2 https://developer.download.nvidia.com/compute/cuda/repos/ubuntu1804/x86_64  InRelease\n",
            "Get:3 http://security.ubuntu.com/ubuntu bionic-security InRelease [88.7 kB]\n",
            "Get:4 https://cloud.r-project.org/bin/linux/ubuntu bionic-cran40/ Packages [40.7 kB]\n",
            "Ign:5 https://developer.download.nvidia.com/compute/machine-learning/repos/ubuntu1804/x86_64  InRelease\n",
            "Get:6 https://developer.download.nvidia.com/compute/cuda/repos/ubuntu1804/x86_64  Release [697 B]\n",
            "Hit:7 https://developer.download.nvidia.com/compute/machine-learning/repos/ubuntu1804/x86_64  Release\n",
            "Get:8 http://ppa.launchpad.net/c2d4u.team/c2d4u4.0+/ubuntu bionic InRelease [15.9 kB]\n",
            "Get:9 https://developer.download.nvidia.com/compute/cuda/repos/ubuntu1804/x86_64  Release.gpg [836 B]\n",
            "Hit:11 http://archive.ubuntu.com/ubuntu bionic InRelease\n",
            "Get:12 http://archive.ubuntu.com/ubuntu bionic-updates InRelease [88.7 kB]\n",
            "Ign:13 https://developer.download.nvidia.com/compute/cuda/repos/ubuntu1804/x86_64  Packages\n",
            "Get:13 https://developer.download.nvidia.com/compute/cuda/repos/ubuntu1804/x86_64  Packages [506 kB]\n",
            "Get:14 http://ppa.launchpad.net/graphics-drivers/ppa/ubuntu bionic InRelease [21.3 kB]\n",
            "Get:15 http://security.ubuntu.com/ubuntu bionic-security/universe amd64 Packages [1,372 kB]\n",
            "Get:16 http://archive.ubuntu.com/ubuntu bionic-backports InRelease [74.6 kB]\n",
            "Get:17 http://ppa.launchpad.net/c2d4u.team/c2d4u4.0+/ubuntu bionic/main Sources [1,698 kB]\n",
            "Get:18 http://archive.ubuntu.com/ubuntu bionic-updates/universe amd64 Packages [2,136 kB]\n",
            "Get:19 http://security.ubuntu.com/ubuntu bionic-security/restricted amd64 Packages [237 kB]\n",
            "Get:20 http://security.ubuntu.com/ubuntu bionic-security/multiverse amd64 Packages [15.3 kB]\n",
            "Get:21 http://security.ubuntu.com/ubuntu bionic-security/main amd64 Packages [1,816 kB]\n",
            "Get:22 http://archive.ubuntu.com/ubuntu bionic-updates/main amd64 Packages [2,244 kB]\n",
            "Get:23 http://archive.ubuntu.com/ubuntu bionic-updates/multiverse amd64 Packages [53.8 kB]\n",
            "Get:24 http://archive.ubuntu.com/ubuntu bionic-updates/restricted amd64 Packages [266 kB]\n",
            "Get:25 http://ppa.launchpad.net/c2d4u.team/c2d4u4.0+/ubuntu bionic/main amd64 Packages [870 kB]\n",
            "Get:26 http://ppa.launchpad.net/graphics-drivers/ppa/ubuntu bionic/main amd64 Packages [46.5 kB]\n",
            "Fetched 11.6 MB in 6s (2,006 kB/s)\n",
            "Reading package lists... Done\n"
          ],
          "name": "stdout"
        }
      ]
    },
    {
      "cell_type": "code",
      "metadata": {
        "colab": {
          "base_uri": "https://localhost:8080/"
        },
        "id": "xISV-9eR6Yah",
        "outputId": "ffc56415-2474-4215-bbba-5d915b172033"
      },
      "source": [
        "!wget https://jdbc.postgresql.org/download/postgresql-42.2.9.jar"
      ],
      "execution_count": null,
      "outputs": [
        {
          "output_type": "stream",
          "text": [
            "--2020-12-16 03:40:20--  https://jdbc.postgresql.org/download/postgresql-42.2.9.jar\n",
            "Resolving jdbc.postgresql.org (jdbc.postgresql.org)... 72.32.157.228, 2001:4800:3e1:1::228\n",
            "Connecting to jdbc.postgresql.org (jdbc.postgresql.org)|72.32.157.228|:443... connected.\n",
            "HTTP request sent, awaiting response... 200 OK\n",
            "Length: 914037 (893K) [application/java-archive]\n",
            "Saving to: ‘postgresql-42.2.9.jar’\n",
            "\n",
            "postgresql-42.2.9.j 100%[===================>] 892.61K  1.02MB/s    in 0.9s    \n",
            "\n",
            "2020-12-16 03:40:22 (1.02 MB/s) - ‘postgresql-42.2.9.jar’ saved [914037/914037]\n",
            "\n"
          ],
          "name": "stdout"
        }
      ]
    },
    {
      "cell_type": "code",
      "metadata": {
        "id": "aEQFTWiV6g2h"
      },
      "source": [
        "from pyspark.sql import SparkSession\n",
        "spark = SparkSession.builder.appName(\"CloudETL\").config(\"spark.driver.extraClassPath\",\"/content/postgresql-42.2.9.jar\").getOrCreate()"
      ],
      "execution_count": null,
      "outputs": []
    },
    {
      "cell_type": "code",
      "metadata": {
        "colab": {
          "base_uri": "https://localhost:8080/"
        },
        "id": "qik6uGSV9BWa",
        "outputId": "5962db1f-dd23-4e4e-a718-3e89a1c63889"
      },
      "source": [
        "# Read in data from S3 Buckets\n",
        "from pyspark import SparkFiles\n",
        "url=\"https://data.edd.ca.gov/resource/bcij-5wym.csv\"\n",
        "spark.sparkContext.addFile(url)\n",
        "unemployment_rate_by_age = spark.read.csv(SparkFiles.get(\"bcij-5wym.csv\"), sep=\",\", header=True, inferSchema=True)\n",
        "unemployment_rate_by_age = unemployment_rate_by_age[[\"area_name\",\"year\",\"age_16_19\",\"age_20_24\",\"age_25_34\",\"age_35_44\",\"age_45_54\",\"age_55_64\",\"age_65\"]]\n",
        "# Show DataFrame\n",
        "unemployment_rate_by_age.show()"
      ],
      "execution_count": null,
      "outputs": [
        {
          "output_type": "stream",
          "text": [
            "+----------+----+---------+---------+---------+---------+---------+---------+------+\n",
            "| area_name|year|age_16_19|age_20_24|age_25_34|age_35_44|age_45_54|age_55_64|age_65|\n",
            "+----------+----+---------+---------+---------+---------+---------+---------+------+\n",
            "|California|2020|    0.225|    0.152|    0.099|    0.076|    0.076|     0.08| 0.091|\n",
            "|California|2020|    0.221|    0.146|    0.095|    0.071|    0.072|    0.075| 0.088|\n",
            "|California|2020|    0.215|    0.138|    0.087|    0.066|    0.068|    0.069| 0.081|\n",
            "|California|2020|    0.211|    0.129|    0.079|    0.059|    0.063|    0.063| 0.073|\n",
            "|California|2020|      0.2|    0.118|    0.071|    0.052|    0.057|    0.058| 0.066|\n",
            "|California|2020|    0.186|    0.105|    0.062|    0.045|     0.05|     0.05| 0.058|\n",
            "|California|2020|    0.167|    0.091|    0.051|    0.038|    0.041|    0.043| 0.046|\n",
            "|California|2020|    0.151|    0.076|    0.041|    0.029|    0.031|    0.034| 0.036|\n",
            "|California|2020|    0.148|    0.073|    0.041|    0.029|    0.031|    0.033| 0.036|\n",
            "|California|2020|    0.143|    0.072|    0.041|    0.028|    0.032|    0.032| 0.038|\n",
            "|California|2019|    0.145|    0.074|    0.041|    0.028|    0.033|    0.033| 0.038|\n",
            "|California|2019|    0.145|    0.074|    0.041|    0.028|    0.033|    0.033| 0.037|\n",
            "|California|2019|    0.147|    0.074|    0.041|    0.028|    0.033|    0.033| 0.036|\n",
            "|California|2019|    0.146|    0.074|     0.04|    0.028|    0.034|    0.033| 0.035|\n",
            "|California|2019|    0.152|    0.075|     0.04|    0.029|    0.035|    0.033| 0.034|\n",
            "|California|2019|    0.152|    0.074|    0.041|    0.029|    0.035|    0.033| 0.032|\n",
            "|California|2019|    0.152|    0.075|    0.041|    0.029|    0.035|    0.033| 0.032|\n",
            "|California|2019|    0.153|    0.076|    0.042|     0.03|    0.035|    0.032| 0.032|\n",
            "|California|2019|    0.155|    0.075|    0.044|    0.031|    0.035|    0.032| 0.031|\n",
            "|California|2019|     0.15|    0.076|    0.045|    0.031|    0.035|    0.032| 0.029|\n",
            "+----------+----+---------+---------+---------+---------+---------+---------+------+\n",
            "only showing top 20 rows\n",
            "\n"
          ],
          "name": "stdout"
        }
      ]
    },
    {
      "cell_type": "code",
      "metadata": {
        "colab": {
          "base_uri": "https://localhost:8080/"
        },
        "id": "RzqGVnoNd-d8",
        "outputId": "ee2dec28-da48-4b09-a666-e34222694486"
      },
      "source": [
        "url=\"https://data.edd.ca.gov/resource/e6gw-gvii.csv\"\n",
        "spark.sparkContext.addFile(url)\n",
        "local_area_unemployment_stats = spark.read.csv(SparkFiles.get(\"e6gw-gvii.csv\"), sep=\",\", header=True, inferSchema=True)\n",
        "local_area_unemployment_stats = local_area_unemployment_stats[[\"area_name\",\"year\",\"employment\",\"unemployment\",\"unemployment_rate\"]]\n",
        "# Show DataFrame\n",
        "local_area_unemployment_stats.show()"
      ],
      "execution_count": null,
      "outputs": [
        {
          "output_type": "stream",
          "text": [
            "+-------------------+----+----------+------------+-----------------+\n",
            "|          area_name|year|employment|unemployment|unemployment_rate|\n",
            "+-------------------+----+----------+------------+-----------------+\n",
            "|     Alameda County|2020|    765400|       65500|            0.079|\n",
            "|      Alpine County|2020|       420|          50|            0.097|\n",
            "|      Amador County|2020|     13490|        1130|            0.077|\n",
            "|       Butte County|2020|     89100|        7100|            0.074|\n",
            "|   Calaveras County|2020|     19370|        1370|            0.066|\n",
            "|      Colusa County|2020|      9080|         930|            0.093|\n",
            "|Contra Costa County|2020|    508900|       43700|            0.079|\n",
            "|   Del Norte County|2020|      8670|         750|             0.08|\n",
            "|   El Dorado County|2020|     86000|        5900|            0.064|\n",
            "|      Fresno County|2020|    408700|       41700|            0.093|\n",
            "|       Glenn County|2020|     12370|         830|            0.063|\n",
            "|    Humboldt County|2020|     57400|        4100|            0.066|\n",
            "|    Imperial County|2020|     55800|       13000|            0.188|\n",
            "|        Inyo County|2020|      7950|         550|            0.065|\n",
            "|        Kern County|2020|    340400|       40300|            0.106|\n",
            "|       Kings County|2020|     51100|        5300|            0.093|\n",
            "|        Lake County|2020|     27430|        2290|            0.077|\n",
            "|      Lassen County|2020|      9580|         530|            0.052|\n",
            "| Los Angeles County|2020|   4453500|      622100|            0.123|\n",
            "| Los Angeles County|2020|   4476400|      613400|            0.121|\n",
            "+-------------------+----+----------+------------+-----------------+\n",
            "only showing top 20 rows\n",
            "\n"
          ],
          "name": "stdout"
        }
      ]
    },
    {
      "cell_type": "code",
      "metadata": {
        "colab": {
          "base_uri": "https://localhost:8080/"
        },
        "id": "6rlP8T1CZnLG",
        "outputId": "89ad7b0d-6932-4937-a5d0-178d97e41cef"
      },
      "source": [
        "url=\"https://data.edd.ca.gov/resource/4yzm-uyfq.csv\"\r\n",
        "spark.sparkContext.addFile(url)\r\n",
        "longterm_occupational_employment = spark.read.csv(SparkFiles.get(\"4yzm-uyfq.csv\"), sep=\",\", header=True, inferSchema=True)\r\n",
        "longterm_occupational_employment = longterm_occupational_employment[[\"area_name\",\"period\",\"occupational_title\",\"percentage_change\",\"median_hourly_wage\",\"median_annual_wage\",\"entry_level_education\"]]\r\n",
        "# Show DataFrame\r\n",
        "longterm_occupational_employment.show()"
      ],
      "execution_count": null,
      "outputs": [
        {
          "output_type": "stream",
          "text": [
            "+--------------------+---------+--------------------+-----------------+------------------+------------------+---------------------+\n",
            "|           area_name|   period|  occupational_title|percentage_change|median_hourly_wage|median_annual_wage|entry_level_education|\n",
            "+--------------------+---------+--------------------+-----------------+------------------+------------------+---------------------+\n",
            "|Anaheim-Santa Ana...|2016-2026|Total, All Occupa...|              9.3|             19.83|             41246|                  N/A|\n",
            "|Anaheim-Santa Ana...|2016-2026|Management Occupa...|             10.4|             58.11|            120871|                  N/A|\n",
            "|Anaheim-Santa Ana...|2016-2026|      Top Executives|              9.0|               0.0|                 0|                  N/A|\n",
            "|Anaheim-Santa Ana...|2016-2026|    Chief Executives|             -3.7|               0.0|                 0|    Bachelor's degree|\n",
            "|Anaheim-Santa Ana...|2016-2026|General and Opera...|             10.8|             60.05|            124902|    Bachelor's degree|\n",
            "|Anaheim-Santa Ana...|2016-2026|         Legislators|              6.3|               0.0|             73443|    Bachelor's degree|\n",
            "|Anaheim-Santa Ana...|2016-2026|Advertising, Mark...|              8.5|               0.0|                 0|                  N/A|\n",
            "|Anaheim-Santa Ana...|2016-2026|Advertising and P...|             10.5|             49.59|            103143|    Bachelor's degree|\n",
            "|Anaheim-Santa Ana...|2016-2026|  Marketing Managers|             10.5|             67.51|            140436|    Bachelor's degree|\n",
            "|Anaheim-Santa Ana...|2016-2026|      Sales Managers|              7.6|             61.26|            127413|    Bachelor's degree|\n",
            "|Anaheim-Santa Ana...|2016-2026|Public Relations ...|             11.9|             66.64|            138589|    Bachelor's degree|\n",
            "|Anaheim-Santa Ana...|2016-2026|Operations Specia...|             12.5|               0.0|                 0|                  N/A|\n",
            "|Anaheim-Santa Ana...|2016-2026|Administrative Se...|             10.0|              56.4|            117319|    Bachelor's degree|\n",
            "|Anaheim-Santa Ana...|2016-2026|Computer and Info...|             11.0|             72.72|            151254|    Bachelor's degree|\n",
            "|Anaheim-Santa Ana...|2016-2026|  Financial Managers|             19.3|             63.01|            131067|    Bachelor's degree|\n",
            "|Anaheim-Santa Ana...|2016-2026|Industrial Produc...|              4.3|             48.13|            100112|    Bachelor's degree|\n",
            "|Anaheim-Santa Ana...|2016-2026| Purchasing Managers|              6.8|             59.16|            123075|    Bachelor's degree|\n",
            "|Anaheim-Santa Ana...|2016-2026|Transportation, S...|             10.4|             49.84|            103663| High school diplo...|\n",
            "|Anaheim-Santa Ana...|2016-2026|Compensation and ...|              6.3|             63.08|            131210|    Bachelor's degree|\n",
            "|Anaheim-Santa Ana...|2016-2026|Human Resources M...|              9.4|             64.57|            134302|    Bachelor's degree|\n",
            "+--------------------+---------+--------------------+-----------------+------------------+------------------+---------------------+\n",
            "only showing top 20 rows\n",
            "\n"
          ],
          "name": "stdout"
        }
      ]
    },
    {
      "cell_type": "code",
      "metadata": {
        "colab": {
          "base_uri": "https://localhost:8080/"
        },
        "id": "7lsn0ANTZ8qC",
        "outputId": "e75f305c-072d-4d73-bef7-3de1242732df"
      },
      "source": [
        "# Load in a sql function to use columns\r\n",
        "from pyspark.sql.functions import col\r\n",
        "\r\n",
        "url=\"https://data.edd.ca.gov/resource/pwxn-y2g5.csv\"\r\n",
        "spark.sparkContext.addFile(url)\r\n",
        "occupational_employment_stat = spark.read.csv(SparkFiles.get(\"pwxn-y2g5.csv\"), sep=\",\", header=True, inferSchema=True)\r\n",
        "occupational_employment_stat = occupational_employment_stat[[\"area_name\",\"year\",\"wage_type\",\"occupational_title\",\"mean_wage\"]]\r\n",
        "occupational_employment_stat = occupational_employment_stat.filter(col(\"wage_type\") == \"Hourly wage\")\r\n",
        "\r\n",
        "# Show DataFrame\r\n",
        "occupational_employment_stat.show()"
      ],
      "execution_count": null,
      "outputs": [
        {
          "output_type": "stream",
          "text": [
            "+----------+----+-----------+--------------------+---------+\n",
            "| area_name|year|  wage_type|  occupational_title|mean_wage|\n",
            "+----------+----+-----------+--------------------+---------+\n",
            "|California|2020|Hourly wage|Accountants and A...|    41.07|\n",
            "|California|2020|Hourly wage|              Actors|    30.23|\n",
            "|California|2020|Hourly wage|           Actuaries|    57.72|\n",
            "|California|2020|Hourly wage|Acupuncturists an...|    38.18|\n",
            "|California|2020|Hourly wage|Adhesive Bonding ...|    17.97|\n",
            "|California|2020|Hourly wage|Administrative La...|    59.38|\n",
            "|California|2020|Hourly wage|Administrative Se...|    56.31|\n",
            "|California|2020|Hourly wage|Adult Basic Educa...|    42.04|\n",
            "|California|2020|Hourly wage|Advertising and P...|    73.09|\n",
            "|California|2020|Hourly wage|Advertising Sales...|    37.26|\n",
            "|California|2020|Hourly wage|Aerospace Enginee...|    33.76|\n",
            "|California|2020|Hourly wage| Aerospace Engineers|    61.38|\n",
            "|California|2020|Hourly wage|Agents and Busine...|    52.87|\n",
            "|California|2020|Hourly wage|Agricultural and ...|    22.95|\n",
            "|California|2020|Hourly wage|Agricultural Engi...|    41.04|\n",
            "|California|2020|Hourly wage|Agricultural Equi...|    16.41|\n",
            "|California|2020|Hourly wage|Agricultural Insp...|    24.05|\n",
            "|California|2020|Hourly wage|Agricultural Scie...|     null|\n",
            "|California|2020|Hourly wage|Agricultural Work...|    19.91|\n",
            "|California|2020|Hourly wage|Aircraft Cargo Ha...|    25.33|\n",
            "+----------+----+-----------+--------------------+---------+\n",
            "only showing top 20 rows\n",
            "\n"
          ],
          "name": "stdout"
        }
      ]
    },
    {
      "cell_type": "code",
      "metadata": {
        "colab": {
          "base_uri": "https://localhost:8080/"
        },
        "id": "y7ltnO-raLbl",
        "outputId": "ea6da855-6f4f-437f-864a-fe04c3af3411"
      },
      "source": [
        "url=\"https://occupation-trends-bucket.s3-us-west-1.amazonaws.com/Current_Employment_Statistics__CES_.csv\"\r\n",
        "spark.sparkContext.addFile(url)\r\n",
        "current_employment_stats = spark.read.csv(SparkFiles.get(\"Current_Employment_Statistics__CES_.csv\"), sep=\",\", header=True, inferSchema=True)\r\n",
        "current_employment_stats = current_employment_stats[[\"Area Name\",\"Year\",\"Industry Title\",\"Current Employment\"]]\r\n",
        "current_employment_stats = current_employment_stats[current_employment_stats[\"Area Name\"].contains('County')]\r\n",
        "\r\n",
        "current_employment_stats = current_employment_stats.withColumnRenamed(\"Area Name\", \"area_name\") \\\r\n",
        "        .withColumnRenamed(\"Year\", \"year\") \\\r\n",
        "        .withColumnRenamed(\"Industry Title\", \"industry_title\") \\\r\n",
        "        .withColumnRenamed(\"Current Employment\", \"current_employment\") \r\n",
        "\r\n",
        "\r\n",
        "# Show DataFrame\r\n",
        "current_employment_stats.show()"
      ],
      "execution_count": null,
      "outputs": [
        {
          "output_type": "stream",
          "text": [
            "+--------------+----+--------------------+------------------+\n",
            "|     area_name|year|      industry_title|current_employment|\n",
            "+--------------+----+--------------------+------------------+\n",
            "|Alameda County|2014|Leisure and Hospi...|             61800|\n",
            "|Alameda County|2014|Health Care and S...|             95300|\n",
            "|Alameda County|2014|Educational and H...|            110700|\n",
            "|Alameda County|2014|        Retail Trade|             68500|\n",
            "|Alameda County|2014|Administrative an...|             35200|\n",
            "|Alameda County|2014|         Information|             13900|\n",
            "|Alameda County|2014|     Goods Producing|            100000|\n",
            "|Alameda County|2014|Arts, Entertainme...|              8800|\n",
            "|Alameda County|2014|    Nondurable Goods|             21100|\n",
            "|Alameda County|2014|      Other Services|             24400|\n",
            "|Alameda County|2014|          Total Farm|               500|\n",
            "|Alameda County|2014|Natural Resources...|             34700|\n",
            "|Alameda County|2014|Financial Activities|             28300|\n",
            "|Alameda County|2014|  Federal Government|              9300|\n",
            "|Alameda County|2014|    Local Government|             69000|\n",
            "|Alameda County|2014|   Service Providing|            600700|\n",
            "|Alameda County|2014|Total Wage and Sa...|            701200|\n",
            "|Alameda County|2014|Real Estate and R...|              9500|\n",
            "|Alameda County|2014|Professional and ...|            117200|\n",
            "|Alameda County|2014|Educational Services|             15400|\n",
            "+--------------+----+--------------------+------------------+\n",
            "only showing top 20 rows\n",
            "\n"
          ],
          "name": "stdout"
        }
      ]
    },
    {
      "cell_type": "markdown",
      "metadata": {
        "id": "kQgPpNnVnRwh"
      },
      "source": [
        "Postgres Setup"
      ]
    },
    {
      "cell_type": "code",
      "metadata": {
        "id": "985Vl1dtmpVU"
      },
      "source": [
        "# Configure settings for RDS\n",
        "mode = \"append\"\n",
        "jdbc_url=\"jdbc:postgresql://occupation-trends.cppwghmqrqzq.us-west-1.rds.amazonaws.com:5432/occupation-trends-db\"\n",
        "config = {\"user\":\"root\", \n",
        "          \"password\": \"data1234\", \n",
        "          \"driver\":\"org.postgresql.Driver\"}\n"
      ],
      "execution_count": null,
      "outputs": []
    },
    {
      "cell_type": "code",
      "metadata": {
        "id": "9yyZgvcUnaNN"
      },
      "source": [
        "# Write DataFrame to active_user table in RDS\n",
        "\n",
        "unemployment_rate_by_age.write.jdbc(url=jdbc_url, table='unemployment_rate_by_age', mode=mode, properties=config)"
      ],
      "execution_count": null,
      "outputs": []
    },
    {
      "cell_type": "code",
      "metadata": {
        "id": "8rsTf2kmna3V"
      },
      "source": [
        "# Write dataframe to billing_info table in RDS\n",
        "\n",
        "local_area_unemployment_stats.write.jdbc(url=jdbc_url, table='local_area_unemployment_stats', mode=mode, properties=config)"
      ],
      "execution_count": null,
      "outputs": []
    },
    {
      "cell_type": "code",
      "metadata": {
        "id": "9q6Bm3kAncqx"
      },
      "source": [
        "# Write dataframe to payment_info table in RDS\n",
        "\n",
        "longterm_occupational_employment.write.jdbc(url=jdbc_url, table='longterm_occupational_employment', mode=mode, properties=config)"
      ],
      "execution_count": null,
      "outputs": []
    },
    {
      "cell_type": "code",
      "metadata": {
        "id": "Kx3hMnlAD5FA"
      },
      "source": [
        "# Write dataframe to payment_info table in RDS\r\n",
        "\r\n",
        "occupational_employment_stat.write.jdbc(url=jdbc_url, table='occupational_employment_stats', mode=mode, properties=config)"
      ],
      "execution_count": null,
      "outputs": []
    },
    {
      "cell_type": "code",
      "metadata": {
        "id": "KZ8X2cRH48bM"
      },
      "source": [
        "# Write dataframe to payment_info table in RDS\r\n",
        "\r\n",
        "current_employment_stats.write.jdbc(url=jdbc_url, table='current_employment_stats', mode=mode, properties=config)"
      ],
      "execution_count": null,
      "outputs": []
    }
  ]
}